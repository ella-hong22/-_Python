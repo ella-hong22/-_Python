{
 "cells": [
  {
   "cell_type": "code",
   "execution_count": 1,
   "metadata": {},
   "outputs": [
    {
     "data": {
      "text/html": [
       "<style>.container {width:100% !important; }</style>"
      ],
      "text/plain": [
       "<IPython.core.display.HTML object>"
      ]
     },
     "metadata": {},
     "output_type": "display_data"
    }
   ],
   "source": [
    "from tqdm.notebook import tqdm  # 진행과정 시각화\n",
    "from datetime import timedelta  # 시간날짜\n",
    "import time\n",
    "import re\n",
    "import os\n",
    "import datetime\n",
    "import pandas as pd\n",
    "import numpy as np\n",
    "import gc\n",
    "\n",
    "import requests\n",
    "import urllib.request\n",
    "import urllib.error\n",
    "import urllib.parse\n",
    "from bs4 import BeautifulSoup  # 크롤링\n",
    "\n",
    "from selenium import webdriver\n",
    "from selenium.webdriver.common.keys import Keys\n",
    "from selenium.webdriver.support.ui import WebDriverWait\n",
    "from selenium.webdriver.chrome.options import Options\n",
    "\n",
    "from IPython.core.display import display, HTML\n",
    "display(HTML('<style>.container {width:100% !important; }</style>'))"
   ]
  },
  {
   "cell_type": "code",
   "execution_count": 3,
   "metadata": {},
   "outputs": [],
   "source": [
    "def del_outword(string):\n",
    "    '''크롤링 후 이모티콘, \\u200b과 같은 문자가 아닌 것 제거\n",
    "    [출처](https://stackoverflow.com/questions/33404752/removing-emojis-from-a-string-in-python)\n",
    "    '''\n",
    "    #이모지제거\n",
    "    emoji_pattern = re.compile(\"[\"\n",
    "                u\"\\U0001F600-\\U0001F64F\"  # emoticons\n",
    "                u\"\\U0001F300-\\U0001F5FF\"  # symbols & pictographs\n",
    "                u\"\\U0001F680-\\U0001F6FF\"  # transport & map symbols\n",
    "                u\"\\U0001F1E0-\\U0001F1FF\"  # flags (iOS)\n",
    "                u\"\\U00002702-\\U000027B0\"\n",
    "                u\"\\U0001f926-\\U0001f937\"\n",
    "                u'\\U00010000-\\U0010ffff'\n",
    "                u\"\\u200d\"\n",
    "                u\"\\u2640-\\u2642\"\n",
    "                u\"\\u2600-\\u2B55\"\n",
    "                u\"\\u23cf\"\n",
    "                u\"\\u23e9\"\n",
    "                u\"\\u231a\"\n",
    "                u\"\\u3030\"\n",
    "                u\"\\ufe0f\"\n",
    "    \"]+\", flags=re.UNICODE)\n",
    "    \n",
    "        #분석에 어긋나는 불용어구 제외 (특수문자, 의성어)\n",
    "    han = re.compile(r'[ㄱ-ㅎㅏ-ㅣ!?~\"^_\\n\\r#\\ufeff\\u200d\\u200b\\u7643\\ufffd\\u682e\\u62c4]+')\n",
    "    \n",
    "    string = emoji_pattern.sub(r'',string)\n",
    "    string = han.sub(r'',string)\n",
    "    \n",
    "    return string\n",
    "\n",
    "def time_change(x):\n",
    "    '''검색결과에 있는 문자를 날짜로 변경\n",
    "    네이버 블로그 크롤링시 작성일자가 1분전/1시간전/1일전으로 나타는 경우가 가끔씩 존재\n",
    "    이러한 패턴을 일반적인 YY-MM-DD형태로 변환함\n",
    "    그리고 월별 계산이 중요하므로 모든 데이터는 1일로 통일\n",
    "    \n",
    "    Return\n",
    "    '''\n",
    "    min_pattern = re.compile('[0-9]+'+\"분 전\")\n",
    "    hour_pattern = re.compile('[0-9]+'+\"시간 전\")\n",
    "    day_pattern = re.compile('[0-9]+'+\"일 전\")\n",
    "\n",
    "    today = datetime.datetime.today().date()\n",
    "    # 일자\n",
    "    if \"일\" in x :\n",
    "        d = re.findall(day_pattern, x)[0][0]\n",
    "        x = today - timedelta(days=int(d))\n",
    "    elif \"시간\" in x:\n",
    "        d = re.findall(hour_pattern, x)[0]\n",
    "        x = today\n",
    "    elif \"분\" in x:\n",
    "        d = re.findall(min_pattern, x)[0]\n",
    "        x = today\n",
    "    elif x == \"어제\":\n",
    "        x = today - timedelta(days=1)\n",
    "    elif type(x) == str: # 'YY.NN.DD'형태\n",
    "        x = datetime.datetime.strptime(x.replace('.', '-')[:-1], '%Y-%m-%d')\n",
    "    \n",
    "    #모든일자를 1일로 통일\n",
    "    x = datetime.datetime.strptime(x.strftime('%Y-%m')+\"-01\",\"%Y-%m-%d\")\n",
    "    return x\n",
    "\n",
    "def make_date_list(start_year,end_year,month_gap = 1,year_gap = 1, types = 'month'):\n",
    "    '''검색에 사용할 날짜 list를 생성\n",
    "    시작년도, 마지막년도를 입력하고 월별간격, 연별 간격을 입력하면\n",
    "    검색에 사용할 \"YYMMDD\"형태의 날짜 list를 반환\n",
    "    \n",
    "    Parameters\n",
    "    ----------\n",
    "    start_year(int) : 검색을 시작할 연도\n",
    "    end_year(int) : 검색을 종료할 연도\n",
    "    month_gap(int) : 몇개월 단위로 검색할 것인지\n",
    "    year_gap(int) : 몇년 단위로 검색할 것인지\n",
    "    types(string) : 'year' or 'month'로 연간검색 혹은 월간검색지정\n",
    "    \n",
    "    Returns \n",
    "    -------\n",
    "    start_date, end_date : list\n",
    "        YYMMDD형태의 string형태의 날짜들은 반환한다\n",
    "    \n",
    "    Examples\n",
    "    --------\n",
    "    >>> make_date_list(start_year = 2010, end_year = 2011,month_gap = 1,year_gap = 1, types = 'month')\n",
    "    start_date = ['20100101', '20100701', '20110101', '20110701']\n",
    "    end_date = ['20100131', '20100731', '20110131', '20110731']\n",
    "    \n",
    "    >>> make_date_list(start_year = 2010, end_year = 2013,year_gap = 1, types = 'year')\n",
    "    start_date = ['20100101', '20110101', '20120101', '20130101']\n",
    "    end_date = ['20101231', '20111231', '20121231', '20131231']\n",
    "    '''\n",
    "    #일자\n",
    "    \n",
    "    month_gap = month_gap*100\n",
    "    start_month = []\n",
    "    end_month = []\n",
    "    \n",
    "    #MMDD 형태 추출\n",
    "    for date in range(101,1202,month_gap):\n",
    "        start_month.append(date)\n",
    "    start_month = list(map(lambda x : '{:0>4}'.format(str(x)),start_month))\n",
    "\n",
    "    for date in range(131,1232,month_gap):\n",
    "        end_month.append(date)\n",
    "    end_month = list(map(lambda x : '{:0>4}'.format(str(x)),end_month))\n",
    "\n",
    "    start_date = []\n",
    "    end_date = []\n",
    "    \n",
    "    #YYMMDD 형태로 추출\n",
    "    if types.lower() == 'month':\n",
    "        for year in range(start_year,end_year+1,year_gap):\n",
    "            for date in start_month:\n",
    "                start_date.append(str(year)+date)\n",
    "            for date in end_month:\n",
    "                end_date.append(str(year)+date)\n",
    "    elif types.lower() == 'year':\n",
    "        for year in range(start_year,end_year+1,year_gap):\n",
    "            start_date.append(str(year)+'0101')\n",
    "            end_date.append(str(year)+'1231')\n",
    "            \n",
    "        \n",
    "    return start_date,end_date\n"
   ]
  },
  {
   "cell_type": "code",
   "execution_count": 4,
   "metadata": {},
   "outputs": [],
   "source": [
    "\n",
    "keyword = '캠핑'\n",
    "date_option=8\n",
    "date_from='20200101'\n",
    "date_to='20201231'\n",
    "base_url = f'https://search.naver.com/search.naver?date_from={date_from}&date_option={date_option}&date_to={date_to}&dup_remove=1&nso=&post_blogurl=&post_blogurl_without=&query={keyword}&sm=tab_pge&srchby=all&st=sim&where=post'\n",
    "path = 'new_output'\n",
    "#저장위치\n",
    "os.makedirs('./new_output',exist_ok=True)"
   ]
  },
  {
   "cell_type": "code",
   "execution_count": 8,
   "metadata": {},
   "outputs": [],
   "source": [
    "#함수화 \n",
    "\n",
    "\n",
    "def new_crawling(keyword, path, date_from='', date_to='', save=True):\n",
    "    '''네이버 블로그 검색결과가 드래그 방식으로 바뀜(기존 페이지방식)\n",
    "    따라서 셀레니움으로 최대(1000건) 드래그후 작성일자, 제목, url을 가져온 후 \n",
    "    request로 각 블로그에 접속하여 본문추출\n",
    "    이 과정에서 네이버블로그가 아닌 블로그 제외됨(tistory, daum등)\n",
    "    \n",
    "    parameter\n",
    "    ---------\n",
    "    keyword(string) : 검색하고 싶은 키워드 \"keyword +필수어\" 형태로 필수단어 추가 가능\n",
    "    path(string) : 저장할 폴더 설정\n",
    "    date_from(YYYYMMDD) : (default = \"\") date_option이 8일때 사용 검색 시작일자를 지정\n",
    "    date_to(YYYYMMDD) : (default = \"\"), date_option이 8일때 사용 검색 마지막일자를 지정\n",
    "    save(bool) : (default = True)csv로 저장 여부 결정\n",
    "    \n",
    "    Returns\n",
    "    ---------\n",
    "    df : DataFrame\n",
    "      post_dates title  full_text         url\n",
    "    0 2010-01-01 title  [full_text]       http://blog.naver.com/PostView.nhn?blogId=wend...  \n",
    "    \n",
    "    '''\n",
    "    \n",
    "    base_url = f'https://search.naver.com/search.naver?date_from={date_from}&date_option=8&date_to={date_to}&dup_remove=1&nso=&post_blogurl=&post_blogurl_without=&query={keyword}&sm=tab_pge&srchby=all&st=sim&where=post'\n",
    "    \n",
    "    #임시저장\n",
    "    blog_urls = dict()\n",
    "    blog_urls['post_dates'] = []\n",
    "    blog_urls['title'] = []\n",
    "    blog_urls['url'] = []\n",
    "    options = Options()\n",
    "    \n",
    "     # 크롬드라이버 작동 \n",
    "    options.add_argument('--start-maximized') #전체화면\n",
    "    options.add_argument('--headless') #headless(화면안켜고)\n",
    "    driver = webdriver.Chrome(executable_path='E:/Ella/RStudio/DataAnalysis/프로젝트/chromedriver.exe', chrome_options=options)\n",
    "    driver.get(base_url)\n",
    "\n",
    "    #최대 아래로 스크롤\n",
    "    count = 1\n",
    "    b_blog_num = ''\n",
    "    try :\n",
    "        for i in range(0,40):\n",
    "            driver.execute_script(\"window.scrollTo(0, document.body.scrollHeight);\")\n",
    "            time.sleep(0.5)\n",
    "            count += 1\n",
    "#             print(count)\n",
    "            #스크롤 마지막 blog_num 비교\n",
    "            source = driver.page_source\n",
    "            soup = BeautifulSoup(source, 'html.parser')\n",
    "            l_blog_num = soup.select('li[id^=\"sp_blog\"]')[-1]['id']\n",
    "\n",
    "            if b_blog_num == l_blog_num: #마지막 번호와 동일하면 스크롤 중지\n",
    "                break\n",
    "            else :\n",
    "                b_blog_num = l_blog_num\n",
    "\n",
    "        source = driver.page_source\n",
    "        # print(count)\n",
    "        driver.close()\n",
    "\n",
    "        #각 정보 불러오기\n",
    "        soup = BeautifulSoup(source, 'html.parser')\n",
    "\n",
    "        #dates\n",
    "        dates_list = soup.select('div > div.total_sub > span > span > span.etc_dsc_area > span')\n",
    "        dates = pd.Series(dates_list).apply(lambda x : x.text)\n",
    "        blog_urls['post_dates'] = blog_urls['post_dates'] + list(dates)\n",
    "\n",
    "        #titles\n",
    "        title_list = soup.select('div > a.api_txt_lines.total_tit')\n",
    "        titles = pd.Series(title_list).apply(lambda x : x.text)\n",
    "        blog_urls['title'] = blog_urls['title'] + list(titles)\n",
    "\n",
    "        #link\n",
    "        link_list = soup.select('div.total_dsc_wrap a.total_dsc')\n",
    "        links = pd.Series(link_list).apply(lambda x : x.get('href'))\n",
    "        blog_urls['url'] = blog_urls['url'] + list(links)\n",
    "\n",
    "        #중복제거\n",
    "        df = pd.DataFrame(blog_urls)\n",
    "        df = df.drop_duplicates('url')\n",
    "        blog_urls['url'] = df['url']\n",
    "        ori_length = len(blog_urls['url'])\n",
    "\n",
    "        # 본문가져오기\n",
    "        output_error = []\n",
    "        texts = []\n",
    "        for i, url in tqdm(enumerate(blog_urls['url'])):\n",
    "            count = i\n",
    "            try:\n",
    "                # 블로그 url안에 들어가기(아직 크롤링불가)\n",
    "                get_blog_post_content_code = requests.get(url)\n",
    "                get_blog_post_content_text = get_blog_post_content_code.text\n",
    "                get_blog_post_content_soup = BeautifulSoup(\n",
    "                    get_blog_post_content_text, 'lxml')\n",
    "\n",
    "                # 크롤링가능한 url에 접속\n",
    "                real_blog_post_url = \"http://blog.naver.com\" + get_blog_post_content_soup.select('#mainFrame')[0].get('src')\n",
    "                get_real_blog_post_content_code = requests.get(real_blog_post_url)\n",
    "                get_real_blog_post_content_text = get_real_blog_post_content_code.text\n",
    "                get_real_blog_post_content_soup = BeautifulSoup(get_real_blog_post_content_text, 'lxml')\n",
    "\n",
    "\n",
    "                # 본문  (postviewarea 패턴과 se-main-container 2가지 유형이 있어 분리함)\n",
    "                try:\n",
    "                    blog_post_content = get_real_blog_post_content_soup.select('div.se-main-container')\n",
    "                    if len(blog_post_content) == 0:\n",
    "                        blog_post_content = get_real_blog_post_content_soup.select('div#postViewArea')\n",
    "                        if len(blog_post_content) == 0:\n",
    "                            blog_post_content = get_real_blog_post_content_soup.select('div.se_component_wrap.sect_dsc.__se_component_area')\n",
    "\n",
    "                    string = \"\"\n",
    "                    for sentence in blog_post_content[0].stripped_strings:\n",
    "                        try :\n",
    "                            string += \" \"+sentence.replace('\\xa0', \" \")\n",
    "                        except :\n",
    "                            pass\n",
    "                        # 비언어 텍스트제거\n",
    "                    string = del_outword(string)\n",
    "                    # 공백에러대처\n",
    "                    blank_check = string.replace(\" \", \"\")\n",
    "                    if len(blank_check) == 0:\n",
    "                        texts.append([\"X\"])\n",
    "                    else:\n",
    "                        texts.append([string])\n",
    "                    count += 1\n",
    "                except Exception as ex:\n",
    "                    print(ex)\n",
    "                    texts.append([\"X\"])\n",
    "                    output_error.append(count)\n",
    "                    count += 1\n",
    "      \n",
    "\n",
    "            except Exception as ex:\n",
    "    #             print('가져오기에러 {num}번째'.format(num=count), ex)\n",
    "                output_error.append(count)\n",
    "                count += 1\n",
    "                pass\n",
    "\n",
    "        #후처리\n",
    "        df = df.drop(output_error) #에러제거\n",
    "        df['full_text'] = texts\n",
    "        df['post_dates'] = df['post_dates'].apply(lambda x : time_change(x)) #날짜 일반화\n",
    "        last_length = len(output_error)\n",
    "        print(f'검색된길이:{ori_length},제외된 길이:{last_length}')\n",
    "        fin_length = df.shape[0]\n",
    "        #저장\n",
    "        if save == True:\n",
    "            today = datetime.datetime.today().date()\n",
    "            str(today)\n",
    "            os.makedirs(f'./{path}/크롤링/{keyword}',exist_ok=True)\n",
    "            df.to_csv(f'./{path}/크롤링/{keyword}/{date_from}~{date_to}_{keyword}_{fin_length}_{today}.csv',index=False)\n",
    "    except Exception as ex:\n",
    "        print(ex)\n",
    "        pass\n",
    "    return df\n",
    "\n",
    " \n",
    "    "
   ]
  },
  {
   "cell_type": "code",
   "execution_count": 10,
   "metadata": {},
   "outputs": [
    {
     "data": {
      "application/vnd.jupyter.widget-view+json": {
       "model_id": "b6c24249cbd34e3d94ab1de280598de6",
       "version_major": 2,
       "version_minor": 0
      },
      "text/plain": [
       "HBox(children=(FloatProgress(value=0.0, max=12.0), HTML(value='')))"
      ]
     },
     "metadata": {},
     "output_type": "display_data"
    },
    {
     "name": "stderr",
     "output_type": "stream",
     "text": [
      "C:\\Users\\hongm\\anaconda3\\envs\\ck\\lib\\site-packages\\ipykernel_launcher.py:38: DeprecationWarning: use options instead of chrome_options\n"
     ]
    },
    {
     "data": {
      "application/vnd.jupyter.widget-view+json": {
       "model_id": "159d2e8693d4434883d698e792e7c6d0",
       "version_major": 2,
       "version_minor": 0
      },
      "text/plain": [
       "HBox(children=(FloatProgress(value=1.0, bar_style='info', layout=Layout(width='20px'), max=1.0), HTML(value=''…"
      ]
     },
     "metadata": {},
     "output_type": "display_data"
    },
    {
     "name": "stdout",
     "output_type": "stream",
     "text": [
      "\n",
      "검색된길이:570,제외된 길이:8\n"
     ]
    },
    {
     "data": {
      "application/vnd.jupyter.widget-view+json": {
       "model_id": "c9dd6a6166b642a7bf227fa40b8b24cb",
       "version_major": 2,
       "version_minor": 0
      },
      "text/plain": [
       "HBox(children=(FloatProgress(value=1.0, bar_style='info', layout=Layout(width='20px'), max=1.0), HTML(value=''…"
      ]
     },
     "metadata": {},
     "output_type": "display_data"
    },
    {
     "name": "stdout",
     "output_type": "stream",
     "text": [
      "\n",
      "검색된길이:420,제외된 길이:0\n"
     ]
    },
    {
     "data": {
      "application/vnd.jupyter.widget-view+json": {
       "model_id": "b672d17a2f5047feaf62d9c0a21bb22a",
       "version_major": 2,
       "version_minor": 0
      },
      "text/plain": [
       "HBox(children=(FloatProgress(value=1.0, bar_style='info', layout=Layout(width='20px'), max=1.0), HTML(value=''…"
      ]
     },
     "metadata": {},
     "output_type": "display_data"
    },
    {
     "name": "stdout",
     "output_type": "stream",
     "text": [
      "\n",
      "검색된길이:630,제외된 길이:1\n"
     ]
    },
    {
     "data": {
      "application/vnd.jupyter.widget-view+json": {
       "model_id": "6c22e2090fc043628f9e25a8974e6778",
       "version_major": 2,
       "version_minor": 0
      },
      "text/plain": [
       "HBox(children=(FloatProgress(value=1.0, bar_style='info', layout=Layout(width='20px'), max=1.0), HTML(value=''…"
      ]
     },
     "metadata": {},
     "output_type": "display_data"
    },
    {
     "name": "stdout",
     "output_type": "stream",
     "text": [
      "\n",
      "검색된길이:600,제외된 길이:0\n"
     ]
    },
    {
     "data": {
      "application/vnd.jupyter.widget-view+json": {
       "model_id": "8b385e68b72e4bac8760a1b7ea61dbef",
       "version_major": 2,
       "version_minor": 0
      },
      "text/plain": [
       "HBox(children=(FloatProgress(value=1.0, bar_style='info', layout=Layout(width='20px'), max=1.0), HTML(value=''…"
      ]
     },
     "metadata": {},
     "output_type": "display_data"
    },
    {
     "name": "stdout",
     "output_type": "stream",
     "text": [
      "\n",
      "검색된길이:570,제외된 길이:0\n"
     ]
    },
    {
     "data": {
      "application/vnd.jupyter.widget-view+json": {
       "model_id": "52fb97ab14544e4cb31f737bc5d70916",
       "version_major": 2,
       "version_minor": 0
      },
      "text/plain": [
       "HBox(children=(FloatProgress(value=1.0, bar_style='info', layout=Layout(width='20px'), max=1.0), HTML(value=''…"
      ]
     },
     "metadata": {},
     "output_type": "display_data"
    },
    {
     "name": "stdout",
     "output_type": "stream",
     "text": [
      "\n",
      "검색된길이:630,제외된 길이:1\n"
     ]
    },
    {
     "data": {
      "application/vnd.jupyter.widget-view+json": {
       "model_id": "879e9b68878249998714f34b3ffab32e",
       "version_major": 2,
       "version_minor": 0
      },
      "text/plain": [
       "HBox(children=(FloatProgress(value=1.0, bar_style='info', layout=Layout(width='20px'), max=1.0), HTML(value=''…"
      ]
     },
     "metadata": {},
     "output_type": "display_data"
    },
    {
     "name": "stdout",
     "output_type": "stream",
     "text": [
      "\n",
      "검색된길이:540,제외된 길이:0\n"
     ]
    },
    {
     "data": {
      "application/vnd.jupyter.widget-view+json": {
       "model_id": "782ade841f4c405fa80a64361832cca3",
       "version_major": 2,
       "version_minor": 0
      },
      "text/plain": [
       "HBox(children=(FloatProgress(value=1.0, bar_style='info', layout=Layout(width='20px'), max=1.0), HTML(value=''…"
      ]
     },
     "metadata": {},
     "output_type": "display_data"
    },
    {
     "name": "stdout",
     "output_type": "stream",
     "text": [
      "\n",
      "검색된길이:450,제외된 길이:0\n"
     ]
    },
    {
     "data": {
      "application/vnd.jupyter.widget-view+json": {
       "model_id": "fb79df9b16d744d29e339ee5e4136e43",
       "version_major": 2,
       "version_minor": 0
      },
      "text/plain": [
       "HBox(children=(FloatProgress(value=1.0, bar_style='info', layout=Layout(width='20px'), max=1.0), HTML(value=''…"
      ]
     },
     "metadata": {},
     "output_type": "display_data"
    },
    {
     "name": "stdout",
     "output_type": "stream",
     "text": [
      "\n",
      "검색된길이:330,제외된 길이:0\n"
     ]
    },
    {
     "data": {
      "application/vnd.jupyter.widget-view+json": {
       "model_id": "f56fbfa83a0e4a13878ca114da3b9884",
       "version_major": 2,
       "version_minor": 0
      },
      "text/plain": [
       "HBox(children=(FloatProgress(value=1.0, bar_style='info', layout=Layout(width='20px'), max=1.0), HTML(value=''…"
      ]
     },
     "metadata": {},
     "output_type": "display_data"
    },
    {
     "name": "stdout",
     "output_type": "stream",
     "text": [
      "\n",
      "검색된길이:484,제외된 길이:0\n"
     ]
    },
    {
     "data": {
      "application/vnd.jupyter.widget-view+json": {
       "model_id": "58bbb5ba77c149d89a6853d5997c3d6c",
       "version_major": 2,
       "version_minor": 0
      },
      "text/plain": [
       "HBox(children=(FloatProgress(value=1.0, bar_style='info', layout=Layout(width='20px'), max=1.0), HTML(value=''…"
      ]
     },
     "metadata": {},
     "output_type": "display_data"
    },
    {
     "name": "stdout",
     "output_type": "stream",
     "text": [
      "\n",
      "검색된길이:600,제외된 길이:0\n"
     ]
    },
    {
     "data": {
      "application/vnd.jupyter.widget-view+json": {
       "model_id": "08259387d21f4605813577dcecd876a5",
       "version_major": 2,
       "version_minor": 0
      },
      "text/plain": [
       "HBox(children=(FloatProgress(value=1.0, bar_style='info', layout=Layout(width='20px'), max=1.0), HTML(value=''…"
      ]
     },
     "metadata": {},
     "output_type": "display_data"
    },
    {
     "name": "stdout",
     "output_type": "stream",
     "text": [
      "\n",
      "검색된길이:450,제외된 길이:0\n",
      "\n"
     ]
    }
   ],
   "source": [
    "#10년치 7시간반\n",
    "start_dates, end_dates = make_date_list(2021,2021)\n",
    "\n",
    "for date_num in tqdm(range(0, len(start_dates))):\n",
    "    date_from = start_dates[date_num]\n",
    "    date_to = end_dates[date_num]\n",
    "    new_crawling(keyword, path, date_from, date_to,True)\n",
    "\n",
    "    "
   ]
  },
  {
   "cell_type": "code",
   "execution_count": null,
   "metadata": {},
   "outputs": [],
   "source": []
  }
 ],
 "metadata": {
  "kernelspec": {
   "display_name": "Python 3",
   "language": "python",
   "name": "python3"
  },
  "language_info": {
   "codemirror_mode": {
    "name": "ipython",
    "version": 3
   },
   "file_extension": ".py",
   "mimetype": "text/x-python",
   "name": "python",
   "nbconvert_exporter": "python",
   "pygments_lexer": "ipython3",
   "version": "3.7.1"
  }
 },
 "nbformat": 4,
 "nbformat_minor": 4
}
