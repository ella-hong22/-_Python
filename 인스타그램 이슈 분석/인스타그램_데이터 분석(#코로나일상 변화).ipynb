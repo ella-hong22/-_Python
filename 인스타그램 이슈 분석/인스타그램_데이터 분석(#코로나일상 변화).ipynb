{
 "cells": [
  {
   "cell_type": "code",
   "execution_count": null,
   "metadata": {},
   "outputs": [],
   "source": [
    "학습 목표 : 코로나일상 해시태크에 어떤 단어가 많이 기록되어 있는지 인스타 그램을 통해\n",
    "    사람들의 일상과 이야기들을 수집한 후 분석해보기. (코로나 전후로 변화된 해시태그 (+상관관계))\n",
    "학습 과정 : 인스타그램에서 키워드 검색 -> 저장된 데이터를 활용한 태그의 빈도수를 집계해서 워드 클라우드 만들기 \n",
    "\n",
    "    "
   ]
  },
  {
   "cell_type": "code",
   "execution_count": 5,
   "metadata": {},
   "outputs": [],
   "source": [
    "#인스타그램의 검색 결과 URL을 만드는 함수 \n",
    "def insta_searching(word):\n",
    "    url='https://www.instagram.com/explore/tags/'+ word\n",
    "    return url\n"
   ]
  },
  {
   "cell_type": "code",
   "execution_count": 6,
   "metadata": {},
   "outputs": [],
   "source": [
    "from selenium import webdriver\n",
    "\n",
    "driver = webdriver.Chrome('C:/playwithdata/chromedriver.exe')\n",
    "# 주의 chrome 버전 74로 해야함!! \n"
   ]
  },
  {
   "cell_type": "code",
   "execution_count": 7,
   "metadata": {},
   "outputs": [],
   "source": [
    "import time\n",
    "\n",
    "# 인스타그램 접속하기\n",
    "driver.get('https://www.instargram.com')\n",
    "time.sleep(2)\n",
    "\n",
    "email = '**********************'   ### 계정 정보 수정 필요\n",
    "input_id = driver.find_elements_by_css_selector('input._2hvTZ.pexuQ.zyHYP')[0]\n",
    "input_id.clear()\n",
    "input_id.send_keys(email)\n",
    "\n",
    "password = '********************' ### 비번 정보 수정 필요\n",
    "input_pw = driver.find_elements_by_css_selector('input._2hvTZ.pexuQ.zyHYP')[1]\n",
    "input_pw.clear()\n",
    "input_pw.send_keys(password)\n",
    "input_pw.submit()\n",
    "\n",
    "# later = driver.find_element_by_css_selector('button.sqdOP.yWX7d.y3zKF')\n",
    "# later.click()\n",
    "# def select_later(driver):\n",
    "#     later = driver.find_element_by_css_selector('button.sqdOP.yWX7d.y3zKF')\n",
    "#     later.click()\n",
    "#     time.sleep(3)\n",
    "    \n",
    "# select_later(driver)\n",
    "# relater=driver.find_element_by_css_selector('div._a001w HoLwm')\n",
    "# relater.chlick()\n",
    "# time.sleep(3)\n",
    "# <button class=\"sqdOP yWX7d    y3zKF     \" type=\"button\">나중에 하기</button>\n",
    "# #react-root > section > main > div > div > div > div > button"
   ]
  },
  {
   "cell_type": "code",
   "execution_count": 9,
   "metadata": {},
   "outputs": [],
   "source": [
    "# selenium으로 URL 접속하기 - 4                \n",
    "word='코로나일상'\n",
    "url= insta_searching(word)\n",
    "driver.get(url)"
   ]
  },
  {
   "cell_type": "code",
   "execution_count": 10,
   "metadata": {},
   "outputs": [],
   "source": [
    "#첫번째 게시글 찾아 클릭\n",
    "import time\n",
    "\n",
    "def select_first(driver):\n",
    "    first=driver.find_element_by_css_selector('div._9AhH0')\n",
    "    first.click()\n",
    "    time.sleep(3)\n",
    "\n",
    "select_first(driver)"
   ]
  },
  {
   "cell_type": "code",
   "execution_count": 11,
   "metadata": {},
   "outputs": [
    {
     "data": {
      "text/plain": [
       "['#2021다이어리다이어리를 급하게 사느라👀어제 도착했어요~!일 단위로 쉽게 적을수 있는 다이어리를 선택했습니다.😆저는 다이어리를 잘 못쓰거든요 ㅋㅋ올해에는 진짜 안쓰면임헌수 소장님 표현대로디질거같아서 ㅋㅋ정신차리고 쓰려고 합니다😂..그리고 계획에 없던성경필사를 끼워 넣었어요~!피드보다가  인친님께서 중국어로 성경필사를...👍저는 한국어로라도 써야겠다라는 생각에👍..올한해 너덜너덜해 질때까지한번 써보자😄..#목표 #계획 #성경필사 #다이어리쓰기 #하루하루가소중해 #자기계발 #공부하자 #오늘부터1일 #집순이일상 #집콕일상 #코로나일상 #씨클 #씨클3기',\n",
       " ['#2021다이어리다이어리를',\n",
       "  '#목표',\n",
       "  '#계획',\n",
       "  '#성경필사',\n",
       "  '#다이어리쓰기',\n",
       "  '#하루하루가소중해',\n",
       "  '#자기계발',\n",
       "  '#공부하자',\n",
       "  '#오늘부터1일',\n",
       "  '#집순이일상',\n",
       "  '#집콕일상',\n",
       "  '#코로나일상',\n",
       "  '#씨클',\n",
       "  '#씨클3기'],\n",
       " '2021-01-03',\n",
       " '']"
      ]
     },
     "execution_count": 11,
     "metadata": {},
     "output_type": "execute_result"
    }
   ],
   "source": [
    "import re\n",
    "from bs4 import BeautifulSoup\n",
    "import unicodedata\n",
    "\n",
    "def get_content(driver):\n",
    "    html=driver.page_source #데이터 가져오기 \n",
    "    soup=BeautifulSoup(html,'lxml')\n",
    "#본문내용 가져오기   \n",
    "    try:\n",
    "        content=soup.select('div.C4VMK > span ')[0].text\n",
    "        content = unicodedata.normalize('NFC', content)\n",
    "    except:\n",
    "        content=''\n",
    "#본문에서 해시태그 가져오기   \n",
    "    tags = re.findall(r'#[^\\s#,\\\\]+', content)  \n",
    "#작성일자 정보 가져오기\n",
    "    date=soup.select('time._1o9PC.Nzb55')[0]['datetime'][:10]\n",
    "\n",
    "                      \n",
    "    \n",
    "#위치 정보 가져오기     \n",
    "    try:\n",
    "        place = soup.select('div.JF9hh')[0].text\n",
    "        place = unicodedata.normalize('NFC', place)\n",
    "#         <div class=\"JF9hh\"><a class=\"O4GlU\" href=\"/explore/locations/256032627/\" tabindex=\"0\">제주도</a></div>\n",
    "    except:\n",
    "        place=''\n",
    "                      \n",
    "    data=[content,tags, date, place ]\n",
    "    \n",
    "    return data \n",
    "\n",
    "get_content(driver)"
   ]
  },
  {
   "cell_type": "code",
   "execution_count": 12,
   "metadata": {},
   "outputs": [],
   "source": [
    "#다음 게시글 여는 함수 \n",
    "\n",
    "import time\n",
    "def move_next(driver):\n",
    "    right=driver.find_element_by_css_selector('a._65Bje.coreSpriteRightPaginationArrow')\n",
    "    right.click()\n",
    "    time.sleep(3) #크롤링 작업 중 에러 방지를 위해 페이지 변동시 대기시간을 넣음 \n",
    "\n",
    "move_next(driver)"
   ]
  },
  {
   "cell_type": "code",
   "execution_count": 13,
   "metadata": {},
   "outputs": [],
   "source": [
    "#인스타그램 크롤링\n",
    "from selenium import webdriver\n",
    "from bs4 import BeautifulSoup\n",
    "import time\n",
    "import re\n",
    "\n",
    "driver = webdriver.Chrome('C:/playwithdata/chromedriver.exe')\n",
    "\n",
    "# 추가) 인스타그램 접속후, 로그인 하기  - \n",
    "driver.get('https://www.instargram.com')\n",
    "time.sleep(2)\n",
    "\n",
    "\n",
    "######## 인스타 계정 로그인이 필요합니다 #########\n",
    "email = '******************'   ### 계정 정보 수정 필요\n",
    "input_id = driver.find_elements_by_css_selector('input._2hvTZ.pexuQ.zyHYP')[0]\n",
    "input_id.clear()\n",
    "input_id.send_keys(email)\n",
    "\n",
    "password = '******************!!' ### 비번 정보 수정 필요\n",
    "input_pw = driver.find_elements_by_css_selector('input._2hvTZ.pexuQ.zyHYP')[1]\n",
    "input_pw.clear()\n",
    "input_pw.send_keys(password)\n",
    "input_pw.submit()"
   ]
  },
  {
   "cell_type": "code",
   "execution_count": 14,
   "metadata": {},
   "outputs": [
    {
     "name": "stdout",
     "output_type": "stream",
     "text": [
      "[['요즘은 유가 불쌍한지 유엄마가 불쌍한지 매일매일 대결하는 느낌이다 🤦\\u200d♂️ #코로나일상#새해복많이받으세요 육아맘들 육아대디들 #힘내세요', ['#코로나일상', '#새해복많이받으세요', '#힘내세요'], '2020-12-31', 'Suwon'], ['#2021다이어리다이어리를 급하게 사느라👀어제 도착했어요~!일 단위로 쉽게 적을수 있는 다이어리를 선택했습니다.😆저는 다이어리를 잘 못쓰거든요 ㅋㅋ올해에는 진짜 안쓰면임헌수 소장님 표현대로디질거같아서 ㅋㅋ정신차리고 쓰려고 합니다😂..그리고 계획에 없던성경필사를 끼워 넣었어요~!피드보다가  인친님께서 중국어로 성경필사를...👍저는 한국어로라도 써야겠다라는 생각에👍..올한해 너덜너덜해 질때까지한번 써보자😄..#목표 #계획 #성경필사 #다이어리쓰기 #하루하루가소중해 #자기계발 #공부하자 #오늘부터1일 #집순이일상 #집콕일상 #코로나일상 #씨클 #씨클3기', ['#2021다이어리다이어리를', '#목표', '#계획', '#성경필사', '#다이어리쓰기', '#하루하루가소중해', '#자기계발', '#공부하자', '#오늘부터1일', '#집순이일상', '#집콕일상', '#코로나일상', '#씨클', '#씨클3기'], '2021-01-03', '']]\n"
     ]
    }
   ],
   "source": [
    "word='코로나일상'\n",
    "url= insta_searching(word)\n",
    "\n",
    "driver.get(url)\n",
    "time.sleep(3)\n",
    "\n",
    "select_first(driver)\n",
    "\n",
    "results=[]\n",
    "\n",
    "target=1000\n",
    "for i in range(target):\n",
    "    try:\n",
    "        data = get_content(driver)    # 게시글 정보 가져오기\n",
    "        results.append(data)\n",
    "        move_next(driver)\n",
    "    except:\n",
    "        time.sleep(2)\n",
    "        move_next(driver)\n",
    "    \n",
    "print(results[:2])"
   ]
  },
  {
   "cell_type": "code",
   "execution_count": 17,
   "metadata": {},
   "outputs": [],
   "source": [
    "import pandas as pd\n",
    "\n",
    "results_df = pd.DataFrame(results)\n",
    "results_df.columns=['content','tags','data','place']\n",
    "results_df.head()\n",
    "#결과 저장하기 \n",
    "results_df.to_excel('E:\\Ella\\마케팅 분석 및 시각화\\인스타그램으로 데이터 분석/Insta_result_1000.xlsx')"
   ]
  },
  {
   "cell_type": "code",
   "execution_count": 35,
   "metadata": {},
   "outputs": [
    {
     "data": {
      "text/plain": [
       "0                    ['#코로나일상', '#새해복많이받으세요', '#힘내세요']\n",
       "1    ['#2021다이어리다이어리를', '#목표', '#계획', '#성경필사', '#다이...\n",
       "2    ['#평범한우리가해냅니다', '#빛나는_인셀덤발라또⠀𝙄', '#발라또본부', '#마...\n",
       "3    ['#코로나19물러가라', '#코로나조심', '#코로나예방', '#코로나꺼져👊', ...\n",
       "4                                                   []\n",
       "5    ['#2020안녕2021안녕', '#새해복많이받으세요', '#스타벅스다이어리⠀⠀⠀⠀...\n",
       "6    ['#2020', '#돌아보기', '#고생했어', '#잘했어', '#굿바이2020'...\n",
       "7                                                   []\n",
       "8    ['#집콕', '#차콕', '#홈콕', '#코로나일상', '#슬기로운코로나생활', ...\n",
       "9    ['#안녕2021', '#시작', '#마스크착용', '#코로나조심', '#지난여행'...\n",
       "Name: tags, dtype: object"
      ]
     },
     "execution_count": 35,
     "metadata": {},
     "output_type": "execute_result"
    }
   ],
   "source": [
    "#크롤링 결과중 해시태그 데이터 불러오기 \n",
    "\n",
    "import pandas as pd\n",
    "raw_total = pd.read_excel('E:\\Ella\\마케팅 분석 및 시각화\\인스타그램으로 데이터 분석/Insta_result_1000.xlsx')\n",
    "raw_total['tags'][:10]"
   ]
  },
  {
   "cell_type": "code",
   "execution_count": 36,
   "metadata": {},
   "outputs": [],
   "source": [
    "#해시태그 통합 저장\n",
    "tags_total = []\n",
    "\n",
    "for tags in raw_total['tags']:\n",
    "    tags_list = tags[2:-2].split(\"', '\")\n",
    "    for tag in tags_list:\n",
    "        tags_total.append(tag)"
   ]
  },
  {
   "cell_type": "code",
   "execution_count": 37,
   "metadata": {},
   "outputs": [],
   "source": [
    "#빈도수 집계하기\n",
    "from collections import Counter\n",
    "tag_counts = Counter(tags_total)"
   ]
  },
  {
   "cell_type": "code",
   "execution_count": 38,
   "metadata": {},
   "outputs": [
    {
     "data": {
      "text/plain": [
       "[('#코로나일상', 718),\n",
       " ('#일상', 149),\n",
       " ('', 121),\n",
       " ('#집콕', 72),\n",
       " ('#소통', 67),\n",
       " ('#2021', 61),\n",
       " ('#새해복많이받으세요', 54),\n",
       " ('#연말', 54),\n",
       " ('#맞팔', 50),\n",
       " ('#새해', 48),\n",
       " ('#2021년', 48),\n",
       " ('#집밥', 44),\n",
       " ('#인친', 39),\n",
       " ('#선팔', 36),\n",
       " ('#세부', 35),\n",
       " ('#세부시티', 35),\n",
       " ('#필리핀', 35),\n",
       " ('#cebu', 35),\n",
       " ('#데일리', 34),\n",
       " ('#로컬', 34),\n",
       " ('#세부코로나일상', 34),\n",
       " ('#세부코로나', 34),\n",
       " ('#세부살이', 34),\n",
       " ('#세부사는남자', 34),\n",
       " ('#요리하는남자', 34),\n",
       " ('#해피뉴이어', 34),\n",
       " ('#먹스타그램', 33),\n",
       " ('#일상스타그램', 32),\n",
       " ('#happynewyear', 32),\n",
       " ('#맛스타그램', 31),\n",
       " ('#주말', 28),\n",
       " ('#코로나', 28),\n",
       " ('#아들스타그램', 27),\n",
       " ('#슬기로운집콕생활', 27),\n",
       " ('#daily', 26),\n",
       " ('#육아일상', 26),\n",
       " ('#집콕일상', 25),\n",
       " ('#육아', 25),\n",
       " ('#홈쿡', 25),\n",
       " ('#육아스타그램', 25),\n",
       " ('#딸스타그램', 25),\n",
       " ('#집콕놀이', 24),\n",
       " ('#아들맘', 23),\n",
       " ('#새해첫날', 23),\n",
       " ('#1월1일', 21),\n",
       " ('#육아맘', 20),\n",
       " ('#일상기록', 20),\n",
       " ('#집콕육아', 19),\n",
       " ('#맘스타그램', 18),\n",
       " ('#요리스타그램', 18)]"
      ]
     },
     "execution_count": 38,
     "metadata": {},
     "output_type": "execute_result"
    }
   ],
   "source": [
    "#가장 많이 사용된 해시태그 확인하기\n",
    "tag_counts.most_common(50)"
   ]
  },
  {
   "cell_type": "code",
   "execution_count": 53,
   "metadata": {},
   "outputs": [
    {
     "data": {
      "text/plain": [
       "[('#집콕', 72),\n",
       " ('#집밥', 44),\n",
       " ('#cebu', 35),\n",
       " ('#데일리', 34),\n",
       " ('#로컬', 34),\n",
       " ('#세부코로나일상', 34),\n",
       " ('#세부코로나', 34),\n",
       " ('#세부살이', 34),\n",
       " ('#세부사는남자', 34),\n",
       " ('#요리하는남자', 34),\n",
       " ('#먹스타그램', 33),\n",
       " ('#일상스타그램', 32),\n",
       " ('#맛스타그램', 31),\n",
       " ('#아들스타그램', 27),\n",
       " ('#슬기로운집콕생활', 27),\n",
       " ('#daily', 26),\n",
       " ('#육아일상', 26),\n",
       " ('#집콕일상', 25),\n",
       " ('#육아', 25),\n",
       " ('#홈쿡', 25),\n",
       " ('#육아스타그램', 25),\n",
       " ('#딸스타그램', 25),\n",
       " ('#집콕놀이', 24),\n",
       " ('#아들맘', 23),\n",
       " ('#육아맘', 20),\n",
       " ('#일상기록', 20),\n",
       " ('#집콕육아', 19),\n",
       " ('#맘스타그램', 18),\n",
       " ('#요리스타그램', 18),\n",
       " ('#코로나19', 18),\n",
       " ('#가족', 15),\n",
       " ('#육아소통', 15),\n",
       " ('#연휴', 14),\n",
       " ('#럽스타그램', 13),\n",
       " ('#홈파티', 13),\n",
       " ('#집콕생활', 13),\n",
       " ('#남매맘', 13),\n",
       " ('#소소한일상', 12),\n",
       " ('#드라이브', 12),\n",
       " ('#데일리그램', 12),\n",
       " ('#워킹맘', 12),\n",
       " ('#미추홀구도자기공방', 12),\n",
       " ('#미추홀구', 12),\n",
       " ('#미추홀구도자기', 12),\n",
       " ('#코로나19물러가라', 11),\n",
       " ('#가족스타그램', 11),\n",
       " ('#남매스타그램', 11),\n",
       " ('#육아맘일상', 11),\n",
       " ('#selfie', 11),\n",
       " ('#좋반', 11)]"
      ]
     },
     "execution_count": 53,
     "metadata": {},
     "output_type": "execute_result"
    }
   ],
   "source": [
    "STOPWORDS = ['#코로나일상', '#선팔', '' '#1월1일', '#새해복많이받으세요', '#일상', '#제주자연눈썹', '#좋아요','#셀피','#2021년', '#인친','#신축년', '#럽스타그램'\n",
    "'#연말', '#happynewyear', '#소통', '#맞팔', '',  '#새해첫날', '#2021', '#연말', '#새해' '#goodbye2020', '#새해','#goodbye2020','#2020','#일요일','#사랑해','#필리핀','#세부',\n",
    "            '#해피뉴이어','#코로나','#주말','#12월31일','#세부시티']\n",
    "\n",
    "tag_total_selected = []\n",
    "for tag in tags_total:\n",
    "    if tag not in STOPWORDS:\n",
    "        tag_total_selected.append(tag)\n",
    "        \n",
    "tag_counts_selected = Counter(tag_total_selected)\n",
    "tag_counts_selected.most_common(50)"
   ]
  },
  {
   "cell_type": "code",
   "execution_count": 54,
   "metadata": {},
   "outputs": [],
   "source": [
    "#시각화 하기 \n",
    "\n",
    "import matplotlib.pyplot as plt\n",
    "import seaborn as sns\n",
    "from matplotlib import font_manager, rc\n",
    "import sys\n",
    "\n",
    "if sys.platform in ['win32','win64']:\n",
    "    font_name='malgun gothic'\n",
    "elif sys.platform == 'darwin':\n",
    "    font_name = \"AppleGothic\"\n",
    "    \n",
    "rc('font', family =font_name)"
   ]
  },
  {
   "cell_type": "code",
   "execution_count": 55,
   "metadata": {},
   "outputs": [],
   "source": [
    "tag_counts_df = pd.DataFrame(tag_counts_selected.most_common(30))\n",
    "tag_counts_df.columns = ['tags','counts']"
   ]
  },
  {
   "cell_type": "code",
   "execution_count": 56,
   "metadata": {},
   "outputs": [
    {
     "data": {
      "text/plain": [
       "<matplotlib.axes._subplots.AxesSubplot at 0x1e295dea4e0>"
      ]
     },
     "execution_count": 56,
     "metadata": {},
     "output_type": "execute_result"
    },
    {
     "data": {
      "image/png": "[encoded data removed]",
      "text/plain": [
       "<Figure size 720x576 with 1 Axes>"
      ]
     },
     "metadata": {
      "needs_background": "light"
     },
     "output_type": "display_data"
    }
   ],
   "source": [
    "plt.figure(figsize=(10,8))\n",
    "sns.barplot(x='counts', y='tags', data= tag_counts_df)"
   ]
  },
  {
   "cell_type": "code",
   "execution_count": null,
   "metadata": {},
   "outputs": [],
   "source": [
    "#지금까지 한 결과\n",
    "날짜를 살펴본봐, 최근 1000건의 인스타 그램의 게시글이 새해와 크리스마스가 겹쳐,\n",
    "코로나일상속에서 사람들이 어떤 일을 하는지에 대한 유의미한 인사이트를 많이 얻지 못했다.\n",
    "그런점에서, 날짜를 기준으로 다시 데이터를 정제하여 11월달을 기준으로 코로나 일상의 \n",
    "데이터를 얻어보도록 해야겠다. \n",
    "\n",
    "지금까지 얻은 인사이트 :  요리에 관련된 연관 검색어가 많이 올라와 있다.( 홈쿡, 먹스타그램, 맛스타그램, 요리하는 남자)\n",
    "    최근 집에 있는 시간이 많아지며, 요리를 하는 남자에 대한 해시태그가 많이 올라와져 있는것을 확인할 수 있다.) \n",
    "    \n",
    "    "
   ]
  }
 ],
 "metadata": {
  "kernelspec": {
   "display_name": "Python 3",
   "language": "python",
   "name": "python3"
  },
  "language_info": {
   "codemirror_mode": {
    "name": "ipython",
    "version": 3
   },
   "file_extension": ".py",
   "mimetype": "text/x-python",
   "name": "python",
   "nbconvert_exporter": "python",
   "pygments_lexer": "ipython3",
   "version": "3.7.1"
  }
 },
 "nbformat": 4,
 "nbformat_minor": 4
}
